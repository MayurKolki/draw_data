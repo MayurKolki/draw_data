{
 "cells": [
  {
   "cell_type": "code",
   "execution_count": 1,
   "metadata": {},
   "outputs": [
    {
     "name": "stdout",
     "output_type": "stream",
     "text": [
      "Collecting drawdata\n",
      "  Downloading drawdata-0.2.0-py2.py3-none-any.whl (2.0 kB)\n",
      "Collecting ipython>=7.16.1\n",
      "  Downloading ipython-7.22.0-py3-none-any.whl (785 kB)\n",
      "Requirement already satisfied: jupyter>=1.0.0 in c:\\users\\mayur\\anaconda3\\lib\\site-packages (from drawdata) (1.0.0)\n",
      "Requirement already satisfied: pickleshare in c:\\users\\mayur\\anaconda3\\lib\\site-packages (from ipython>=7.16.1->drawdata) (0.7.5)\n",
      "Collecting jedi>=0.16\n",
      "  Downloading jedi-0.18.0-py2.py3-none-any.whl (1.4 MB)\n",
      "Requirement already satisfied: backcall in c:\\users\\mayur\\anaconda3\\lib\\site-packages (from ipython>=7.16.1->drawdata) (0.1.0)\n",
      "Requirement already satisfied: prompt-toolkit!=3.0.0,!=3.0.1,<3.1.0,>=2.0.0 in c:\\users\\mayur\\anaconda3\\lib\\site-packages (from ipython>=7.16.1->drawdata) (3.0.3)\n",
      "Requirement already satisfied: colorama; sys_platform == \"win32\" in c:\\users\\mayur\\anaconda3\\lib\\site-packages (from ipython>=7.16.1->drawdata) (0.4.3)\n",
      "Requirement already satisfied: setuptools>=18.5 in c:\\users\\mayur\\anaconda3\\lib\\site-packages (from ipython>=7.16.1->drawdata) (45.2.0.post20200210)\n",
      "Requirement already satisfied: decorator in c:\\users\\mayur\\anaconda3\\lib\\site-packages (from ipython>=7.16.1->drawdata) (4.4.1)\n",
      "Requirement already satisfied: traitlets>=4.2 in c:\\users\\mayur\\anaconda3\\lib\\site-packages (from ipython>=7.16.1->drawdata) (4.3.3)\n",
      "Requirement already satisfied: pygments in c:\\users\\mayur\\anaconda3\\lib\\site-packages (from ipython>=7.16.1->drawdata) (2.5.2)\n",
      "Requirement already satisfied: jupyter-console in c:\\users\\mayur\\anaconda3\\lib\\site-packages (from jupyter>=1.0.0->drawdata) (6.1.0)\n",
      "Requirement already satisfied: qtconsole in c:\\users\\mayur\\anaconda3\\lib\\site-packages (from jupyter>=1.0.0->drawdata) (4.6.0)\n",
      "Requirement already satisfied: ipywidgets in c:\\users\\mayur\\anaconda3\\lib\\site-packages (from jupyter>=1.0.0->drawdata) (7.5.1)\n",
      "Requirement already satisfied: notebook in c:\\users\\mayur\\anaconda3\\lib\\site-packages (from jupyter>=1.0.0->drawdata) (6.0.3)\n",
      "Requirement already satisfied: ipykernel in c:\\users\\mayur\\anaconda3\\lib\\site-packages (from jupyter>=1.0.0->drawdata) (5.1.4)\n",
      "Requirement already satisfied: nbconvert in c:\\users\\mayur\\anaconda3\\lib\\site-packages (from jupyter>=1.0.0->drawdata) (5.6.1)\n",
      "Collecting parso<0.9.0,>=0.8.0\n",
      "  Downloading parso-0.8.2-py2.py3-none-any.whl (94 kB)\n",
      "Requirement already satisfied: wcwidth in c:\\users\\mayur\\anaconda3\\lib\\site-packages (from prompt-toolkit!=3.0.0,!=3.0.1,<3.1.0,>=2.0.0->ipython>=7.16.1->drawdata) (0.1.8)\n",
      "Requirement already satisfied: six in c:\\users\\mayur\\anaconda3\\lib\\site-packages (from traitlets>=4.2->ipython>=7.16.1->drawdata) (1.15.0)\n",
      "Requirement already satisfied: ipython-genutils in c:\\users\\mayur\\anaconda3\\lib\\site-packages (from traitlets>=4.2->ipython>=7.16.1->drawdata) (0.2.0)\n",
      "Requirement already satisfied: jupyter-client in c:\\users\\mayur\\anaconda3\\lib\\site-packages (from jupyter-console->jupyter>=1.0.0->drawdata) (5.3.4)\n",
      "Requirement already satisfied: jupyter-core in c:\\users\\mayur\\anaconda3\\lib\\site-packages (from qtconsole->jupyter>=1.0.0->drawdata) (4.6.1)\n",
      "Requirement already satisfied: widgetsnbextension~=3.5.0 in c:\\users\\mayur\\anaconda3\\lib\\site-packages (from ipywidgets->jupyter>=1.0.0->drawdata) (3.5.1)\n",
      "Requirement already satisfied: nbformat>=4.2.0 in c:\\users\\mayur\\anaconda3\\lib\\site-packages (from ipywidgets->jupyter>=1.0.0->drawdata) (5.0.4)\n",
      "Requirement already satisfied: prometheus-client in c:\\users\\mayur\\anaconda3\\lib\\site-packages (from notebook->jupyter>=1.0.0->drawdata) (0.7.1)\n",
      "Requirement already satisfied: pyzmq>=17 in c:\\users\\mayur\\anaconda3\\lib\\site-packages (from notebook->jupyter>=1.0.0->drawdata) (18.1.1)\n",
      "Requirement already satisfied: terminado>=0.8.1 in c:\\users\\mayur\\anaconda3\\lib\\site-packages (from notebook->jupyter>=1.0.0->drawdata) (0.8.3)\n",
      "Requirement already satisfied: Send2Trash in c:\\users\\mayur\\anaconda3\\lib\\site-packages (from notebook->jupyter>=1.0.0->drawdata) (1.5.0)\n",
      "Requirement already satisfied: tornado>=5.0 in c:\\users\\mayur\\anaconda3\\lib\\site-packages (from notebook->jupyter>=1.0.0->drawdata) (6.0.3)\n",
      "Requirement already satisfied: jinja2 in c:\\users\\mayur\\anaconda3\\lib\\site-packages (from notebook->jupyter>=1.0.0->drawdata) (2.11.1)\n",
      "Requirement already satisfied: bleach in c:\\users\\mayur\\anaconda3\\lib\\site-packages (from nbconvert->jupyter>=1.0.0->drawdata) (3.1.0)\n",
      "Requirement already satisfied: defusedxml in c:\\users\\mayur\\anaconda3\\lib\\site-packages (from nbconvert->jupyter>=1.0.0->drawdata) (0.6.0)\n",
      "Requirement already satisfied: testpath in c:\\users\\mayur\\anaconda3\\lib\\site-packages (from nbconvert->jupyter>=1.0.0->drawdata) (0.4.4)\n",
      "Requirement already satisfied: pandocfilters>=1.4.1 in c:\\users\\mayur\\anaconda3\\lib\\site-packages (from nbconvert->jupyter>=1.0.0->drawdata) (1.4.2)\n",
      "Requirement already satisfied: entrypoints>=0.2.2 in c:\\users\\mayur\\anaconda3\\lib\\site-packages (from nbconvert->jupyter>=1.0.0->drawdata) (0.3)\n",
      "Requirement already satisfied: mistune<2,>=0.8.1 in c:\\users\\mayur\\anaconda3\\lib\\site-packages (from nbconvert->jupyter>=1.0.0->drawdata) (0.8.4)\n",
      "Requirement already satisfied: python-dateutil>=2.1 in c:\\users\\mayur\\anaconda3\\lib\\site-packages (from jupyter-client->jupyter-console->jupyter>=1.0.0->drawdata) (2.8.1)\n",
      "Requirement already satisfied: pywin32>=1.0; sys_platform == \"win32\" in c:\\users\\mayur\\anaconda3\\lib\\site-packages (from jupyter-client->jupyter-console->jupyter>=1.0.0->drawdata) (227)\n",
      "Requirement already satisfied: jsonschema!=2.5.0,>=2.4 in c:\\users\\mayur\\anaconda3\\lib\\site-packages (from nbformat>=4.2.0->ipywidgets->jupyter>=1.0.0->drawdata) (3.2.0)\n",
      "Requirement already satisfied: MarkupSafe>=0.23 in c:\\users\\mayur\\anaconda3\\lib\\site-packages (from jinja2->notebook->jupyter>=1.0.0->drawdata) (1.1.1)\n",
      "Requirement already satisfied: webencodings in c:\\users\\mayur\\anaconda3\\lib\\site-packages (from bleach->nbconvert->jupyter>=1.0.0->drawdata) (0.5.1)\n",
      "Requirement already satisfied: pyrsistent>=0.14.0 in c:\\users\\mayur\\anaconda3\\lib\\site-packages (from jsonschema!=2.5.0,>=2.4->nbformat>=4.2.0->ipywidgets->jupyter>=1.0.0->drawdata) (0.15.7)\n",
      "Requirement already satisfied: attrs>=17.4.0 in c:\\users\\mayur\\anaconda3\\lib\\site-packages (from jsonschema!=2.5.0,>=2.4->nbformat>=4.2.0->ipywidgets->jupyter>=1.0.0->drawdata) (19.3.0)\n",
      "Requirement already satisfied: importlib-metadata; python_version < \"3.8\" in c:\\users\\mayur\\anaconda3\\lib\\site-packages (from jsonschema!=2.5.0,>=2.4->nbformat>=4.2.0->ipywidgets->jupyter>=1.0.0->drawdata) (1.5.0)\n",
      "Requirement already satisfied: zipp>=0.5 in c:\\users\\mayur\\anaconda3\\lib\\site-packages (from importlib-metadata; python_version < \"3.8\"->jsonschema!=2.5.0,>=2.4->nbformat>=4.2.0->ipywidgets->jupyter>=1.0.0->drawdata) (2.2.0)\n",
      "Installing collected packages: parso, jedi, ipython, drawdata\n",
      "  Attempting uninstall: parso\n",
      "    Found existing installation: parso 0.5.2\n",
      "    Uninstalling parso-0.5.2:\n",
      "      Successfully uninstalled parso-0.5.2\n",
      "  Attempting uninstall: jedi\n",
      "    Found existing installation: jedi 0.14.1\n",
      "    Uninstalling jedi-0.14.1:\n",
      "      Successfully uninstalled jedi-0.14.1\n",
      "  Attempting uninstall: ipython\n",
      "    Found existing installation: ipython 7.12.0\n",
      "    Uninstalling ipython-7.12.0:\n",
      "      Successfully uninstalled ipython-7.12.0\n",
      "Successfully installed drawdata-0.2.0 ipython-7.22.0 jedi-0.18.0 parso-0.8.2\n"
     ]
    },
    {
     "name": "stderr",
     "output_type": "stream",
     "text": [
      "ERROR: spyder 4.0.1 requires pyqt5<5.13; python_version >= \"3\", which is not installed.\n",
      "ERROR: spyder 4.0.1 requires pyqtwebengine<5.13; python_version >= \"3\", which is not installed.\n",
      "ERROR: spyder 4.0.1 has requirement jedi==0.14.1, but you'll have jedi 0.18.0 which is incompatible.\n",
      "ERROR: python-language-server 0.31.7 has requirement jedi<0.16,>=0.14.1, but you'll have jedi 0.18.0 which is incompatible.\n"
     ]
    }
   ],
   "source": [
    "!pip install drawdata"
   ]
  },
  {
   "cell_type": "code",
   "execution_count": 2,
   "metadata": {},
   "outputs": [
    {
     "data": {
      "text/html": [
       "\n",
       "        <iframe\n",
       "            width=\"800\"\n",
       "            height=\"550\"\n",
       "            src=\"https://drawdata.xyz/scatter.html\"\n",
       "            frameborder=\"0\"\n",
       "            allowfullscreen\n",
       "        ></iframe>\n",
       "        "
      ],
      "text/plain": [
       "<IPython.lib.display.IFrame at 0x15ec66f4308>"
      ]
     },
     "execution_count": 2,
     "metadata": {},
     "output_type": "execute_result"
    }
   ],
   "source": [
    "from drawdata import draw_scatter\n",
    "\n",
    "draw_scatter()"
   ]
  },
  {
   "cell_type": "code",
   "execution_count": 3,
   "metadata": {},
   "outputs": [
    {
     "data": {
      "text/html": [
       "<div>\n",
       "<style scoped>\n",
       "    .dataframe tbody tr th:only-of-type {\n",
       "        vertical-align: middle;\n",
       "    }\n",
       "\n",
       "    .dataframe tbody tr th {\n",
       "        vertical-align: top;\n",
       "    }\n",
       "\n",
       "    .dataframe thead th {\n",
       "        text-align: right;\n",
       "    }\n",
       "</style>\n",
       "<table border=\"1\" class=\"dataframe\">\n",
       "  <thead>\n",
       "    <tr style=\"text-align: right;\">\n",
       "      <th></th>\n",
       "      <th>x</th>\n",
       "      <th>y</th>\n",
       "      <th>z</th>\n",
       "    </tr>\n",
       "  </thead>\n",
       "  <tbody>\n",
       "    <tr>\n",
       "      <th>0</th>\n",
       "      <td>626.474929</td>\n",
       "      <td>472.296711</td>\n",
       "      <td>a</td>\n",
       "    </tr>\n",
       "    <tr>\n",
       "      <th>1</th>\n",
       "      <td>627.341312</td>\n",
       "      <td>445.940113</td>\n",
       "      <td>a</td>\n",
       "    </tr>\n",
       "    <tr>\n",
       "      <th>2</th>\n",
       "      <td>606.095574</td>\n",
       "      <td>469.015127</td>\n",
       "      <td>a</td>\n",
       "    </tr>\n",
       "    <tr>\n",
       "      <th>3</th>\n",
       "      <td>646.467154</td>\n",
       "      <td>489.709190</td>\n",
       "      <td>a</td>\n",
       "    </tr>\n",
       "    <tr>\n",
       "      <th>4</th>\n",
       "      <td>567.220333</td>\n",
       "      <td>462.920515</td>\n",
       "      <td>a</td>\n",
       "    </tr>\n",
       "    <tr>\n",
       "      <th>...</th>\n",
       "      <td>...</td>\n",
       "      <td>...</td>\n",
       "      <td>...</td>\n",
       "    </tr>\n",
       "    <tr>\n",
       "      <th>999</th>\n",
       "      <td>722.169521</td>\n",
       "      <td>60.304270</td>\n",
       "      <td>d</td>\n",
       "    </tr>\n",
       "    <tr>\n",
       "      <th>1000</th>\n",
       "      <td>706.543803</td>\n",
       "      <td>38.198821</td>\n",
       "      <td>d</td>\n",
       "    </tr>\n",
       "    <tr>\n",
       "      <th>1001</th>\n",
       "      <td>670.639477</td>\n",
       "      <td>86.633658</td>\n",
       "      <td>d</td>\n",
       "    </tr>\n",
       "    <tr>\n",
       "      <th>1002</th>\n",
       "      <td>729.576190</td>\n",
       "      <td>81.133473</td>\n",
       "      <td>d</td>\n",
       "    </tr>\n",
       "    <tr>\n",
       "      <th>1003</th>\n",
       "      <td>642.612053</td>\n",
       "      <td>93.939256</td>\n",
       "      <td>d</td>\n",
       "    </tr>\n",
       "  </tbody>\n",
       "</table>\n",
       "<p>1004 rows × 3 columns</p>\n",
       "</div>"
      ],
      "text/plain": [
       "               x           y  z\n",
       "0     626.474929  472.296711  a\n",
       "1     627.341312  445.940113  a\n",
       "2     606.095574  469.015127  a\n",
       "3     646.467154  489.709190  a\n",
       "4     567.220333  462.920515  a\n",
       "...          ...         ... ..\n",
       "999   722.169521   60.304270  d\n",
       "1000  706.543803   38.198821  d\n",
       "1001  670.639477   86.633658  d\n",
       "1002  729.576190   81.133473  d\n",
       "1003  642.612053   93.939256  d\n",
       "\n",
       "[1004 rows x 3 columns]"
      ]
     },
     "execution_count": 3,
     "metadata": {},
     "output_type": "execute_result"
    }
   ],
   "source": [
    "import pandas as pd \n",
    "pd.read_clipboard(sep=\",\")"
   ]
  },
  {
   "cell_type": "code",
   "execution_count": null,
   "metadata": {},
   "outputs": [],
   "source": []
  },
  {
   "cell_type": "code",
   "execution_count": null,
   "metadata": {},
   "outputs": [],
   "source": []
  },
  {
   "cell_type": "code",
   "execution_count": null,
   "metadata": {},
   "outputs": [],
   "source": []
  },
  {
   "cell_type": "code",
   "execution_count": null,
   "metadata": {},
   "outputs": [],
   "source": []
  },
  {
   "cell_type": "code",
   "execution_count": null,
   "metadata": {},
   "outputs": [],
   "source": []
  },
  {
   "cell_type": "code",
   "execution_count": null,
   "metadata": {},
   "outputs": [],
   "source": []
  },
  {
   "cell_type": "code",
   "execution_count": null,
   "metadata": {},
   "outputs": [],
   "source": []
  },
  {
   "cell_type": "code",
   "execution_count": null,
   "metadata": {},
   "outputs": [],
   "source": []
  },
  {
   "cell_type": "code",
   "execution_count": null,
   "metadata": {},
   "outputs": [],
   "source": []
  },
  {
   "cell_type": "code",
   "execution_count": null,
   "metadata": {},
   "outputs": [],
   "source": []
  },
  {
   "cell_type": "code",
   "execution_count": null,
   "metadata": {},
   "outputs": [],
   "source": []
  },
  {
   "cell_type": "code",
   "execution_count": null,
   "metadata": {},
   "outputs": [],
   "source": []
  },
  {
   "cell_type": "code",
   "execution_count": null,
   "metadata": {},
   "outputs": [],
   "source": []
  },
  {
   "cell_type": "code",
   "execution_count": null,
   "metadata": {},
   "outputs": [],
   "source": []
  },
  {
   "cell_type": "code",
   "execution_count": null,
   "metadata": {},
   "outputs": [],
   "source": []
  },
  {
   "cell_type": "code",
   "execution_count": null,
   "metadata": {},
   "outputs": [],
   "source": []
  }
 ],
 "metadata": {
  "kernelspec": {
   "display_name": "Python 3",
   "language": "python",
   "name": "python3"
  },
  "language_info": {
   "codemirror_mode": {
    "name": "ipython",
    "version": 3
   },
   "file_extension": ".py",
   "mimetype": "text/x-python",
   "name": "python",
   "nbconvert_exporter": "python",
   "pygments_lexer": "ipython3",
   "version": "3.7.6"
  }
 },
 "nbformat": 4,
 "nbformat_minor": 4
}
